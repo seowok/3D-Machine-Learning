{
  "nbformat": 4,
  "nbformat_minor": 0,
  "metadata": {
    "colab": {
      "name": "assignment_05.ipynb",
      "provenance": [],
      "toc_visible": true,
      "mount_file_id": "1hI2cowQLflWQoT0eJ-MMl5mXseV8YpJd",
      "authorship_tag": "ABX9TyPyb4tx1pJ0XtYD6HqZ3h8T"
    },
    "kernelspec": {
      "name": "python3",
      "display_name": "Python 3"
    }
  },
  "cells": [
    {
      "cell_type": "markdown",
      "metadata": {
        "id": "JeUJEVNDqdFH",
        "colab_type": "text"
      },
      "source": [
        "# Logistic regression for a bianary classification"
      ]
    },
    {
      "cell_type": "markdown",
      "metadata": {
        "id": "uqPKNmbfrv-b",
        "colab_type": "text"
      },
      "source": [
        "## 1. Load data"
      ]
    },
    {
      "cell_type": "code",
      "metadata": {
        "id": "FJ2Jcsi5qkPp",
        "colab_type": "code",
        "colab": {
          "base_uri": "https://localhost:8080/",
          "height": 483
        },
        "outputId": "1ee3df9e-affe-4915-8f7c-428619b61465"
      },
      "source": [
        "import numpy as np\n",
        "import matplotlib.pyplot as plt\n",
        "\n",
        "data_path = \"./drive/My Drive/Colab Notebooks/VisionAlgs/assignments/05/data.txt\"\n",
        "data    = np.genfromtxt(data_path, delimiter=',')\n",
        "\n",
        "x       = data[:, 0]\n",
        "y       = data[:, 1]\n",
        "label   = data[:, 2]\n",
        "\n",
        "x_label0    = x[label == 0]\n",
        "x_label1    = x[label == 1]\n",
        "\n",
        "y_label0    = y[label == 0]\n",
        "y_label1    = y[label == 1]\n",
        "\n",
        "plt.figure(figsize=(8, 8))\n",
        "plt.scatter(x_label0, y_label0, alpha=0.3, c='b')\n",
        "plt.scatter(x_label1, y_label1, alpha=0.3, c='r')\n",
        "plt.show()"
      ],
      "execution_count": 2,
      "outputs": [
        {
          "output_type": "display_data",
          "data": {
            "image/png": "[encoded data removed]",
            "text/plain": [
              "<Figure size 576x576 with 1 Axes>"
            ]
          },
          "metadata": {
            "tags": [],
            "needs_background": "light"
          }
        }
      ]
    },
    {
      "cell_type": "markdown",
      "metadata": {
        "id": "4mG-rxNHu9j3",
        "colab_type": "text"
      },
      "source": [
        "## 2. Train parameters of linear regression model"
      ]
    },
    {
      "cell_type": "code",
      "metadata": {
        "id": "b_ye_RPUvByF",
        "colab_type": "code",
        "colab": {
          "base_uri": "https://localhost:8080/",
          "height": 92
        },
        "outputId": "e3918668-6e78-4d0c-ee57-8cb53c63afb5"
      },
      "source": [
        "# Defining linear model\n",
        "def linear_regression(data, thetas):\n",
        "  assert len(thetas) == 3, \"Argument [thetas] should have 3 parameters.\"\n",
        "  h = thetas[0] + thetas[1] * data[:,0] + thetas[2] * data[:,1]\n",
        "  h_reg = 1 / (1 + np.exp(-h))\n",
        "  \n",
        "  return h_reg\n",
        "\n",
        "# Training linear regression\n",
        "step = 10000\n",
        "lr = 1e-4\n",
        "threshold = 1e-5\n",
        "\n",
        "thetas = np.random.rand(3)\n",
        "train_losses = []\n",
        "params = [thetas]\n",
        "for i in range(step):\n",
        "  h_reg = linear_regression(data, params[-1])\n",
        "  \n",
        "  # Train_Loss (Objective funtion)\n",
        "  train_loss = -1 * (np.mean(data[:,2] * np.log(h_reg)) + np.mean((1-data[:,2] * np.log(1-h_reg))))\n",
        "  train_losses.append(train_loss)\n",
        "\n",
        "  # Gradient Descent\n",
        "  grad_0 = lr * np.mean(h_reg - data[:,2])\n",
        "  grad_1 = lr * np.mean((h_reg - data[:,2]) * data[:,0])\n",
        "  grad_2 = lr * np.mean((h_reg - data[:,2]) * data[:,1])\n",
        "\n",
        "  thetas = np.array([params[-1][0] - grad_0, params[-1][1] - grad_1, params[-1][2] - grad_2])\n",
        "  params.append(thetas)\n",
        "\n",
        "  if len(train_losses) >= 2 and np.abs(train_losses[-1] - train_losses[-2]) < threshold:\n",
        "    print('Learning finished at {}.'.format(i))\n",
        "    break"
      ],
      "execution_count": 30,
      "outputs": [
        {
          "output_type": "stream",
          "text": [
            "Learning finished at 594.\n"
          ],
          "name": "stdout"
        },
        {
          "output_type": "stream",
          "text": [
            "/usr/local/lib/python3.6/dist-packages/ipykernel_launcher.py:20: RuntimeWarning: divide by zero encountered in log\n",
            "/usr/local/lib/python3.6/dist-packages/ipykernel_launcher.py:20: RuntimeWarning: invalid value encountered in multiply\n",
            "/usr/local/lib/python3.6/dist-packages/ipykernel_launcher.py:31: RuntimeWarning: invalid value encountered in double_scalars\n"
          ],
          "name": "stderr"
        }
      ]
    },
    {
      "cell_type": "markdown",
      "metadata": {
        "id": "tuUwrmkpvGio",
        "colab_type": "text"
      },
      "source": [
        "## 3. Plot the parameters of model"
      ]
    },
    {
      "cell_type": "code",
      "metadata": {
        "id": "TL2UO3lJvNCg",
        "colab_type": "code",
        "colab": {
          "base_uri": "https://localhost:8080/",
          "height": 284
        },
        "outputId": "d92a1112-8a28-452c-ff64-585ce5fd887b"
      },
      "source": [
        "params = np.array(params)\n",
        "\n",
        "plt.plot(np.arange(params.shape[0]), params[:,0], c='red')\n",
        "plt.plot(np.arange(params.shape[0]), params[:,1], c='green')\n",
        "plt.plot(np.arange(params.shape[0]), params[:,2], c='blue')"
      ],
      "execution_count": 31,
      "outputs": [
        {
          "output_type": "execute_result",
          "data": {
            "text/plain": [
              "[<matplotlib.lines.Line2D at 0x7fa0b64040f0>]"
            ]
          },
          "metadata": {
            "tags": []
          },
          "execution_count": 31
        },
        {
          "output_type": "display_data",
          "data": {
            "image/png": "[encoded data removed]",
            "text/plain": [
              "<Figure size 432x288 with 1 Axes>"
            ]
          },
          "metadata": {
            "tags": [],
            "needs_background": "light"
          }
        }
      ]
    }
  ]
}